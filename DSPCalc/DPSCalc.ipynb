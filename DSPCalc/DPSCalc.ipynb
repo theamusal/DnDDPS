{
 "cells": [
  {
   "cell_type": "code",
   "execution_count": 1,
   "metadata": {},
   "outputs": [],
   "source": [
    "%load_ext autoreload\n",
    "%autoreload 2"
   ]
  },
  {
   "cell_type": "markdown",
   "metadata": {},
   "source": [
    "### Base random rolls"
   ]
  },
  {
   "cell_type": "code",
   "execution_count": 2,
   "metadata": {},
   "outputs": [],
   "source": [
    "import matplotlib.pyplot as plt\n",
    "import numpy as np\n",
    "import random\n",
    "\n",
    "tst = np.array([random.randint(1,20) for i in range(14*1000000)]).reshape(14,1000000)\n",
    "bon = np.array([random.randint(1,4) for i in range(14*1000000)]).reshape(14,1000000)\n",
    "bon = bon + tst"
   ]
  },
  {
   "cell_type": "markdown",
   "metadata": {},
   "source": [
    "### Simulate one million battles"
   ]
  },
  {
   "cell_type": "code",
   "execution_count": 3,
   "metadata": {},
   "outputs": [
    {
     "data": {
      "image/png": "[encoded data removed]",
      "text/plain": [
       "<Figure size 640x480 with 1 Axes>"
      ]
     },
     "metadata": {},
     "output_type": "display_data"
    },
    {
     "name": "stdout",
     "output_type": "stream",
     "text": [
      "Enemy: Guard   HP: 178   AC: 15   Strength Save: 4\n",
      "Blue:   Ground and Pound :    Max 262, Min 0, Ave 139\n",
      "15.123% Percent chance of killing enemy in first turn\n",
      "Orange: Hill GS          :  Max 275, Min 0, Ave 154\n",
      "26.445% Percent chance of killing enemy in first turn\n",
      "Green:  Stone GS         :  Max 280, Min 17, Ave 180\n",
      "58.550% Percent chance of killing enemy in first turn\n",
      "Red:    Frost GS         :   Max 304, Min 39, Ave 203\n",
      "86.704% Percent chance of killing enemy in first turn\n"
     ]
    }
   ],
   "source": [
    "import hit as h\n",
    "\n",
    "#Stats\n",
    "enemyName = 'Guard'\n",
    "enemyAC = 15\n",
    "enemyStrSave = 4\n",
    "enemyhp = 178\n",
    "toHit = 10\n",
    "toDamage = 6\n",
    "dc = 16\n",
    "\n",
    "# Process Attacks\n",
    "ht = np.array([h.gapturn(tst[:,i], enemyAC, enemyStrSave, toHit, toDamage, dc) for i in range(1000000)])\n",
    "he = np.array([h.gapturn(tst[:,i], enemyAC, enemyStrSave, toHit+1, toDamage+1, dc+1) for i in range(1000000)])\n",
    "hs = np.array([h.gapturn(tst[:,i], enemyAC, enemyStrSave, toHit+3, toDamage+3, dc+3) for i in range(1000000)])\n",
    "hb = np.array([h.gapturn(tst[:,i], enemyAC, enemyStrSave, toHit+5, toDamage +5, dc+5) for i in range(1000000)])\n",
    "\n",
    "# Append results to dataset\n",
    "#ht = np.expand_dims(ht, axis=0)\n",
    "#tst = np.append(tst,ht, axis = 0)\n",
    "\n",
    "plt.hist(ht, bins=ht.max() - ht.min(), alpha = .5)\n",
    "plt.hist(he, bins=he.max() - he.min(), alpha = .5)\n",
    "plt.hist(hs, bins=hs.max() - hs.min(), alpha = .5)\n",
    "plt.hist(hb, bins=hb.max() - hb.min(), alpha = .5)\n",
    "plt.xlim((ht.min(),hb.max()))\n",
    "plt.show()\n",
    "print('Enemy: %s   HP: %d   AC: %d   Strength Save: %d' % (enemyName, enemyhp, enemyAC, enemyStrSave))\n",
    "print('Blue:   Ground and Pound :  Max %d, Min %d, Ave %d' % (ht.max(), ht.min(), ht.mean()))\n",
    "print(\"%.3f%% Percent chance of killing enemy in first turn\" % (100 * np.count_nonzero(ht >= enemyhp)/1000000))\n",
    "print('Orange: Hill GS          :  Max %d, Min %d, Ave %d' % (he.max(), he.min(), he.mean()))\n",
    "print(\"%.3f%% Percent chance of killing enemy in first turn\" % (100 * np.count_nonzero(he >= enemyhp)/1000000))\n",
    "print('Green:  Stone GS         :  Max %d, Min %d, Ave %d' % (hs.max(), hs.min(), hs.mean()))\n",
    "print(\"%.3f%% Percent chance of killing enemy in first turn\" % (100 * np.count_nonzero(hs >= enemyhp)/1000000))\n",
    "print('Red:    Frost GS         :  Max %d, Min %d, Ave %d' % (hb.max(), hb.min(), hb.mean()))\n",
    "print(\"%.3f%% Percent chance of killing enemy in first turn\" % (100 * np.count_nonzero(hb >= enemyhp)/1000000))"
   ]
  }
 ],
 "metadata": {
  "kernelspec": {
   "display_name": "base",
   "language": "python",
   "name": "python3"
  },
  "language_info": {
   "codemirror_mode": {
    "name": "ipython",
    "version": 3
   },
   "file_extension": ".py",
   "mimetype": "text/x-python",
   "name": "python",
   "nbconvert_exporter": "python",
   "pygments_lexer": "ipython3",
   "version": "3.10.12"
  },
  "orig_nbformat": 4
 },
 "nbformat": 4,
 "nbformat_minor": 2
}
